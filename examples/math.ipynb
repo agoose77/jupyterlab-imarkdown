{
 "cells": [
  {
   "cell_type": "code",
   "execution_count": null,
   "id": "6c802ed9-7fba-4dcd-bd1c-1f4310131dca",
   "metadata": {},
   "outputs": [],
   "source": [
    "from sympy import *\n",
    "\n",
    "init_session()"
   ]
  },
  {
   "cell_type": "code",
   "execution_count": null,
   "id": "8a35d59e-5e11-4183-8b6a-2cc16af8d9b9",
   "metadata": {},
   "outputs": [],
   "source": [
    "f = exp(-x**2)*sin(3*x)"
   ]
  },
  {
   "cell_type": "code",
   "execution_count": null,
   "id": "5688ab01-c269-46c3-9668-6dffb08fbc33",
   "metadata": {},
   "outputs": [],
   "source": [
    "fxxx = diff(f, x, 3)"
   ]
  },
  {
   "cell_type": "markdown",
   "id": "bb08bf9b-cf9b-4e44-8647-bd2a135591c5",
   "metadata": {
    "user_expressions": [
     {
      "expression": " fxxx ",
      "result": {
       "data": {
        "image/png": "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\n",
        "text/latex": "$\\displaystyle \\left(- 4 x \\left(2 x^{2} - 3\\right) \\sin{\\left(3 x \\right)} + 54 x \\sin{\\left(3 x \\right)} + 18 \\cdot \\left(2 x^{2} - 1\\right) \\cos{\\left(3 x \\right)} - 27 \\cos{\\left(3 x \\right)}\\right) e^{- x^{2}}$",
        "text/plain": "                                                                                      2\n⎛      ⎛   2    ⎞                               ⎛   2    ⎞                       ⎞  -x \n⎝- 4⋅x⋅⎝2⋅x  - 3⎠⋅sin(3⋅x) + 54⋅x⋅sin(3⋅x) + 18⋅⎝2⋅x  - 1⎠⋅cos(3⋅x) - 27⋅cos(3⋅x)⎠⋅ℯ   "
       },
       "metadata": {},
       "status": "ok"
      }
     }
    ]
   },
   "source": [
    "The third derivative of $f$ is {{ fxxx }} which is ... a jerk move"
   ]
  }
 ],
 "metadata": {
  "kernelspec": {
   "display_name": "Python 3 (ipykernel)",
   "language": "python",
   "name": "python3"
  },
  "language_info": {
   "codemirror_mode": {
    "name": "ipython",
    "version": 3
   },
   "file_extension": ".py",
   "mimetype": "text/x-python",
   "name": "python",
   "nbconvert_exporter": "python",
   "pygments_lexer": "ipython3",
   "version": "3.10.4"
  },
  "widgets": {
   "application/vnd.jupyter.widget-state+json": {
    "state": {},
    "version_major": 2,
    "version_minor": 0
   }
  }
 },
 "nbformat": 4,
 "nbformat_minor": 5
}
