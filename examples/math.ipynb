{
 "cells": [
  {
   "cell_type": "code",
   "execution_count": 1,
   "id": "6c802ed9-7fba-4dcd-bd1c-1f4310131dca",
   "metadata": {},
   "outputs": [
    {
     "name": "stdout",
     "output_type": "stream",
     "text": [
      "IPython console for SymPy 1.8 (Python 3.8.12-64-bit) (ground types: python)\n",
      "\n",
      "These commands were executed:\n",
      ">>> from __future__ import division\n",
      ">>> from sympy import *\n",
      ">>> x, y, z, t = symbols('x y z t')\n",
      ">>> k, m, n = symbols('k m n', integer=True)\n",
      ">>> f, g, h = symbols('f g h', cls=Function)\n",
      ">>> init_printing()\n",
      "\n",
      "Documentation can be found at https://docs.sympy.org/1.8/\n",
      "\n"
     ]
    }
   ],
   "source": [
    "from sympy import *\n",
    "\n",
    "init_session()"
   ]
  },
  {
   "cell_type": "code",
   "execution_count": 2,
   "id": "8a35d59e-5e11-4183-8b6a-2cc16af8d9b9",
   "metadata": {},
   "outputs": [],
   "source": [
    "f = exp(-x**2)*sin(3*x)"
   ]
  },
  {
   "cell_type": "code",
   "execution_count": 3,
   "id": "5688ab01-c269-46c3-9668-6dffb08fbc33",
   "metadata": {},
   "outputs": [],
   "source": [
    "fxxx = diff(f, x, 3)"
   ]
  },
  {
   "cell_type": "markdown",
   "id": "bb08bf9b-cf9b-4e44-8647-bd2a135591c5",
   "metadata": {},
   "source": [
    "The third derivative of $f$ is {{ fxxx }} which is ... a jerk move"
   ]
  }
 ],
 "metadata": {
  "kernelspec": {
   "display_name": "Python 3 (ipykernel)",
   "language": "python",
   "name": "python3"
  },
  "language_info": {
   "codemirror_mode": {
    "name": "ipython",
    "version": 3
   },
   "file_extension": ".py",
   "mimetype": "text/x-python",
   "name": "python",
   "nbconvert_exporter": "python",
   "pygments_lexer": "ipython3",
   "version": "3.8.12"
  }
 },
 "nbformat": 4,
 "nbformat_minor": 5
}
