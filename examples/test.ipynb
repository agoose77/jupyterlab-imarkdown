{
 "cells": [
  {
   "cell_type": "markdown",
   "id": "f8b56a07-dd42-4b22-8858-186bdf7687c7",
   "metadata": {},
   "source": [
    "# Test IMarkdown"
   ]
  },
  {
   "cell_type": "markdown",
   "id": "631a41b9-42d4-4c9e-9703-e602fadcfce2",
   "metadata": {},
   "source": [
    "```mermaid\n",
    "flowchart LR;\n",
    "\n",
    "P[Execute Markdown] --> \n",
    "Q[Store MIME-bundles in Attachments]\n",
    "\n",
    "A[Render Markdown] --> \n",
    "B[Create Placeholders] --> \n",
    "C[Replace Placeholders from Attachments]\n",
    "\n",
    "```"
   ]
  },
  {
   "cell_type": "code",
   "execution_count": 1,
   "id": "290faea6-2123-4bf2-b67c-b8e7879b6bff",
   "metadata": {
    "jupyter": {
     "source_hidden": true
    },
    "tags": []
   },
   "outputs": [],
   "source": [
    "import ipywidgets as w\n",
    "from IPython.display import HTML\n",
    "\n",
    "def repr_widget_mimebundle(self, include, exclude):\n",
    "    plaintext = repr(self)\n",
    "    if len(plaintext) > 110:\n",
    "        plaintext = plaintext[:110] + '…'\n",
    "    data = {\n",
    "        'text/plain': plaintext,\n",
    "    }\n",
    "    if self._view_name is not None:\n",
    "        # The 'application/vnd.jupyter.widget-view+json' mimetype has not been registered yet.\n",
    "        # See the registration process and naming convention at\n",
    "        # http://tools.ietf.org/html/rfc6838\n",
    "        # and the currently registered mimetypes at\n",
    "        # http://www.iana.org/assignments/media-types/media-types.xhtml.\n",
    "        data['application/vnd.jupyter.widget-view+json'] = {\n",
    "            'version_major': 2,\n",
    "            'version_minor': 0,\n",
    "            'model_id': self._model_id\n",
    "        }\n",
    "    return data\n",
    "\n",
    "try:\n",
    "    del w.Widget._ipython_display_\n",
    "except AttributeError:\n",
    "    pass\n",
    "w.Widget._repr_mimebundle_ = repr_widget_mimebundle"
   ]
  },
  {
   "cell_type": "code",
   "execution_count": 3,
   "id": "78e7b0a4-0404-438d-80ac-2969036736ad",
   "metadata": {},
   "outputs": [
    {
     "data": {
      "text/html": [
       "<a style=\"color:red\">hello from Mars</a>"
      ],
      "text/plain": [
       "<IPython.core.display.HTML object>"
      ]
     },
     "execution_count": 3,
     "metadata": {},
     "output_type": "execute_result"
    }
   ],
   "source": [
    "message = HTML(\"\"\"<a style=\"color:red\">hello from Mars</a>\"\"\")\n",
    "message"
   ]
  },
  {
   "cell_type": "markdown",
   "id": "81424d85-6484-4bd8-9c92-bf7028fb4d76",
   "metadata": {},
   "source": [
    "The best thing about Markdown is the ability to include inspirational messages from space: {{ message }}."
   ]
  },
  {
   "cell_type": "code",
   "execution_count": 11,
   "id": "29958409-a294-4aa4-a6e6-13146527afe7",
   "metadata": {},
   "outputs": [
    {
     "data": {
      "application/vnd.jupyter.widget-view+json": {
       "model_id": "74e16450729a4394b44dc9f085756c41",
       "version_major": 2,
       "version_minor": 0
      },
      "text/plain": [
       "IntSlider(value=0, layout=Layout(display='inline'))"
      ]
     },
     "execution_count": 11,
     "metadata": {},
     "output_type": "execute_result"
    }
   ],
   "source": [
    "slider = w.IntSlider(layout=w.Layout(display=\"inline\"))\n",
    "slider"
   ]
  },
  {
   "cell_type": "markdown",
   "id": "d040cf4e-d764-48f0-b747-f0dd36cd7c87",
   "metadata": {},
   "source": [
    "We can also include widgets {{ slider }}."
   ]
  },
  {
   "cell_type": "code",
   "execution_count": 12,
   "id": "e16dd119-ee0e-483b-830c-0faafc09838f",
   "metadata": {},
   "outputs": [
    {
     "data": {
      "text/plain": [
       "({'text/plain': \"IntSlider(value=0, layout=Layout(display='inline'))\",\n",
       "  'application/vnd.jupyter.widget-view+json': {'version_major': 2,\n",
       "   'version_minor': 0,\n",
       "   'model_id': '74e16450729a4394b44dc9f085756c41'}},\n",
       " {})"
      ]
     },
     "execution_count": 12,
     "metadata": {},
     "output_type": "execute_result"
    }
   ],
   "source": [
    "get_ipython().display_formatter.format(slider)"
   ]
  },
  {
   "cell_type": "markdown",
   "id": "6045ce4d-b467-4ce0-b713-6fba4f9a72ea",
   "metadata": {},
   "source": [
    "And we can include labels!"
   ]
  },
  {
   "cell_type": "code",
   "execution_count": 9,
   "id": "d80af620-83b3-46cc-a8c7-043f32a154a6",
   "metadata": {},
   "outputs": [
    {
     "data": {
      "application/vnd.jupyter.widget-view+json": {
       "model_id": "6a824907bf1d4ee899b28a41a1095154",
       "version_major": 2,
       "version_minor": 0
      },
      "text/plain": [
       "Label(value='HI')"
      ]
     },
     "execution_count": 9,
     "metadata": {},
     "output_type": "execute_result"
    }
   ],
   "source": [
    "label = w.Label(value=\"HI\")\n",
    "label"
   ]
  },
  {
   "cell_type": "code",
   "execution_count": 8,
   "id": "a98e8ae0-b916-4e7c-8623-95ca53c40c12",
   "metadata": {},
   "outputs": [
    {
     "data": {
      "text/plain": [
       "({'text/plain': \"Label(value='HI')\",\n",
       "  'application/vnd.jupyter.widget-view+json': {'version_major': 2,\n",
       "   'version_minor': 0,\n",
       "   'model_id': '8500d8d43ada4d5fae27b899d6c3a7e4'}},\n",
       " {})"
      ]
     },
     "execution_count": 8,
     "metadata": {},
     "output_type": "execute_result"
    }
   ],
   "source": [
    "get_ipython().display_formatter.format(label)"
   ]
  },
  {
   "cell_type": "markdown",
   "id": "defba8d2-80d9-43d8-bfa2-c5afd6229d9a",
   "metadata": {},
   "source": [
    "Yo {{label}}\n",
    "> {{ slider }} or else"
   ]
  },
  {
   "cell_type": "code",
   "execution_count": null,
   "id": "e5487d59-1e11-40cb-962c-cc66e01cb083",
   "metadata": {},
   "outputs": [],
   "source": []
  }
 ],
 "metadata": {
  "kernelspec": {
   "display_name": "Python 3 (ipykernel)",
   "language": "python",
   "name": "python3"
  },
  "language_info": {
   "codemirror_mode": {
    "name": "ipython",
    "version": 3
   },
   "file_extension": ".py",
   "mimetype": "text/x-python",
   "name": "python",
   "nbconvert_exporter": "python",
   "pygments_lexer": "ipython3",
   "version": "3.9.7"
  }
 },
 "nbformat": 4,
 "nbformat_minor": 5
}
