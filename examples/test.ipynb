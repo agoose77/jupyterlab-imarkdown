{
 "cells": [
  {
   "cell_type": "markdown",
   "id": "f8b56a07-dd42-4b22-8858-186bdf7687c7",
   "metadata": {},
   "source": [
    "# Test IMarkdown"
   ]
  },
  {
   "cell_type": "markdown",
   "id": "631a41b9-42d4-4c9e-9703-e602fadcfce2",
   "metadata": {},
   "source": [
    "```mermaid\n",
    "flowchart LR;\n",
    "\n",
    "P[Execute Markdown] --> \n",
    "Q[Store MIME-bundles in Attachments]\n",
    "\n",
    "A[Render Markdown] --> \n",
    "B[Create Placeholders] --> \n",
    "C[Replace Placeholders from Attachments]\n",
    "\n",
    "```"
   ]
  },
  {
   "cell_type": "code",
   "execution_count": 11,
   "id": "8b9c7c49-37dd-41b9-b34e-8cc8970f243a",
   "metadata": {},
   "outputs": [],
   "source": [
    "from IPython.display import HTML\n",
    "that = HTML(\"<i>notebooks</i>\")"
   ]
  },
  {
   "cell_type": "markdown",
   "id": "8bf9c50e-262e-4919-8eb1-b71b8a5f69ac",
   "metadata": {
    "jupyterlab-imarkdown": {
     "attachments": [
      "expr-0"
     ]
    }
   },
   "source": [
    "This is {{ that }}!"
   ]
  },
  {
   "cell_type": "code",
   "execution_count": null,
   "id": "53f1d28f-51ca-4a96-8fb4-03835d2c4035",
   "metadata": {},
   "outputs": [],
   "source": []
  }
 ],
 "metadata": {
  "kernelspec": {
   "display_name": "Python 3 (ipykernel)",
   "language": "python",
   "name": "python3"
  },
  "language_info": {
   "codemirror_mode": {
    "name": "ipython",
    "version": 3
   },
   "file_extension": ".py",
   "mimetype": "text/x-python",
   "name": "python",
   "nbconvert_exporter": "python",
   "pygments_lexer": "ipython3",
   "version": "3.9.7"
  }
 },
 "nbformat": 4,
 "nbformat_minor": 5
}
