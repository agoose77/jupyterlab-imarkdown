{
 "cells": [
  {
   "cell_type": "markdown",
   "id": "f8b56a07-dd42-4b22-8858-186bdf7687c7",
   "metadata": {},
   "source": [
    "# Test IMarkdown"
   ]
  },
  {
   "cell_type": "markdown",
   "id": "631a41b9-42d4-4c9e-9703-e602fadcfce2",
   "metadata": {},
   "source": [
    "```mermaid\n",
    "flowchart LR;\n",
    "\n",
    "P[Execute Markdown] --> \n",
    "Q[Store MIME-bundles in Attachments]\n",
    "\n",
    "A[Render Markdown] --> \n",
    "B[Create Placeholders] --> \n",
    "C[Replace Placeholders from Attachments]\n",
    "\n",
    "```"
   ]
  },
  {
   "cell_type": "code",
   "execution_count": 6,
   "id": "8b9c7c49-37dd-41b9-b34e-8cc8970f243a",
   "metadata": {},
   "outputs": [],
   "source": [
    "that = \"notebook\""
   ]
  },
  {
   "cell_type": "markdown",
   "id": "46f0d03a-d0db-42d7-bea0-8c3991ab3b01",
   "metadata": {
    "jupyterlab-imarkdown": {
     "attachments": [
      "4cc93a9c-147a-11ec-82a8-0242ac130003"
     ]
    }
   },
   "attachments": {
      "4cc93a9c-147a-11ec-82a8-0242ac130003": {
        "text/html": "<i>notebook</i>",
        "text/plain": "notebook"
      }
    },
   "source": [
    "This is {{ that }}!"
   ]
  }
 ],
 "metadata": {
  "kernelspec": {
   "display_name": "Python 3 (ipykernel)",
   "language": "python",
   "name": "python3"
  },
  "language_info": {
   "codemirror_mode": {
    "name": "ipython",
    "version": 3
   },
   "file_extension": ".py",
   "mimetype": "text/x-python",
   "name": "python",
   "nbconvert_exporter": "python",
   "pygments_lexer": "ipython3",
   "version": "3.9.7"
  }
 },
 "nbformat": 4,
 "nbformat_minor": 5
}
