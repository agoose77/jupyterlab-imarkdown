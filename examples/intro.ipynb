{
 "cells": [
  {
   "cell_type": "markdown",
   "id": "f8b56a07-dd42-4b22-8858-186bdf7687c7",
   "metadata": {
    "user_expressions": []
   },
   "source": [
    "# Test IMarkdown"
   ]
  },
  {
   "cell_type": "code",
   "execution_count": 1,
   "id": "e8adb8b7-9b89-499d-8105-c98babfd9ad5",
   "metadata": {
    "tags": []
   },
   "outputs": [],
   "source": [
    "import ipywidgets as w\n",
    "import numpy as np\n",
    "from IPython.display import HTML\n",
    "\n",
    "%matplotlib widget\n",
    "import matplotlib.pyplot as plt\n",
    "\n",
    "plt.ioff();"
   ]
  },
  {
   "cell_type": "markdown",
   "id": "631a41b9-42d4-4c9e-9703-e602fadcfce2",
   "metadata": {
    "user_expressions": []
   },
   "source": [
    "```mermaid\n",
    "flowchart LR;\n",
    "\n",
    "P[Execute Markdown] --> \n",
    "Q[Store MIME-bundles in Attachments]\n",
    "\n",
    "A[Render Markdown] --> \n",
    "B[Create Placeholders] --> \n",
    "C[Replace Placeholders from Attachments]\n",
    "```"
   ]
  },
  {
   "cell_type": "markdown",
   "id": "6214732b-d02c-4438-a630-a4f33c63673f",
   "metadata": {
    "user_expressions": []
   },
   "source": [
    "Patch IPyWidgets"
   ]
  },
  {
   "cell_type": "code",
   "execution_count": 2,
   "id": "3d150081-4a48-425e-b208-3182a4643061",
   "metadata": {},
   "outputs": [],
   "source": [
    "def repr_widget_mimebundle(self, include, exclude):\n",
    "    plaintext = repr(self)\n",
    "    if len(plaintext) > 110:\n",
    "        plaintext = plaintext[:110] + '…'\n",
    "    data = {\n",
    "        'text/plain': plaintext,\n",
    "    }\n",
    "    if self._view_name is not None:\n",
    "        # The 'application/vnd.jupyter.widget-view+json' mimetype has not been registered yet.\n",
    "        # See the registration process and naming convention at\n",
    "        # http://tools.ietf.org/html/rfc6838\n",
    "        # and the currently registered mimetypes at\n",
    "        # http://www.iana.org/assignments/media-types/media-types.xhtml.\n",
    "        data['application/vnd.jupyter.widget-view+json'] = {\n",
    "            'version_major': 2,\n",
    "            'version_minor': 0,\n",
    "            'model_id': self._model_id\n",
    "        }\n",
    "    return data\n",
    "\n",
    "del w.Widget._ipython_display_\n",
    "w.Widget._repr_mimebundle_ = repr_widget_mimebundle"
   ]
  },
  {
   "cell_type": "markdown",
   "id": "81424d85-6484-4bd8-9c92-bf7028fb4d76",
   "metadata": {
    "user_expressions": []
   },
   "source": [
    "The best thing about Markdown is the ability to include inspirational messages from space:"
   ]
  },
  {
   "cell_type": "code",
   "execution_count": 3,
   "id": "78e7b0a4-0404-438d-80ac-2969036736ad",
   "metadata": {},
   "outputs": [
    {
     "data": {
      "text/html": [
       "<a style=\"color:green\">hello from Mars</a>"
      ],
      "text/plain": [
       "<IPython.core.display.HTML object>"
      ]
     },
     "execution_count": 3,
     "metadata": {},
     "output_type": "execute_result"
    }
   ],
   "source": [
    "message = HTML(\"\"\"<a style=\"color:green\">hello from Mars</a>\"\"\")\n",
    "message"
   ]
  },
  {
   "cell_type": "markdown",
   "id": "da45ba9c-d836-4830-9cd0-52b66f282077",
   "metadata": {
    "user_expressions": [
     {
      "expression": " message ",
      "result": {
       "data": {
        "text/html": "<a style=\"color:green\">hello from Mars</a>",
        "text/plain": "<IPython.core.display.HTML object>"
       },
       "metadata": {},
       "status": "ok"
      }
     }
    ]
   },
   "source": [
    "Receiving broadcast ...\n",
    "> {{ message }}"
   ]
  },
  {
   "cell_type": "code",
   "execution_count": 12,
   "id": "29958409-a294-4aa4-a6e6-13146527afe7",
   "metadata": {},
   "outputs": [
    {
     "data": {
      "application/vnd.jupyter.widget-view+json": {
       "model_id": "ecd725eb87064a85b6d93a6e7848d7f7",
       "version_major": 2,
       "version_minor": 0
      },
      "text/plain": [
       "IntSlider(value=0, layout=Layout(display='inline-flex'), _dom_classes=('vertical-align-middle',))"
      ]
     },
     "execution_count": 12,
     "metadata": {},
     "output_type": "execute_result"
    }
   ],
   "source": [
    "slider = w.IntSlider(layout=w.Layout(display=\"inline-flex\")).add_class(\"vertical-align-middle\")\n",
    "slider"
   ]
  },
  {
   "cell_type": "markdown",
   "id": "d040cf4e-d764-48f0-b747-f0dd36cd7c87",
   "metadata": {
    "tags": [],
    "user_expressions": [
     {
      "expression": " slider ",
      "result": {
       "data": {
        "application/vnd.jupyter.widget-view+json": {
         "model_id": "ecd725eb87064a85b6d93a6e7848d7f7",
         "version_major": 2,
         "version_minor": 0
        },
        "text/plain": "IntSlider(value=0, layout=Layout(display='inline-flex'), _dom_classes=('vertical-align-middle',))"
       },
       "metadata": {},
       "status": "ok"
      }
     }
    ]
   },
   "source": [
    "We can also include widgets!\n",
    "This is a slider — {{ slider }}."
   ]
  },
  {
   "cell_type": "code",
   "execution_count": 13,
   "id": "e51f4807-cb1d-4db7-bbd6-07e0f9d014ec",
   "metadata": {},
   "outputs": [
    {
     "data": {
      "application/vnd.jupyter.widget-view+json": {
       "model_id": "c0367d875231435dafd49296cb24ef5c",
       "version_major": 2,
       "version_minor": 0
      },
      "text/plain": [
       "HBox(children=(IntSlider(value=0, layout=Layout(display='inline-flex'), _dom_classes=('vertical-align-middle',…"
      ]
     },
     "execution_count": 13,
     "metadata": {},
     "output_type": "execute_result"
    }
   ],
   "source": [
    "w.HBox([slider, w.Label(\"HI\")])"
   ]
  },
  {
   "cell_type": "markdown",
   "id": "6045ce4d-b467-4ce0-b713-6fba4f9a72ea",
   "metadata": {
    "user_expressions": []
   },
   "source": [
    "And we can include raw text (as blocks, currently)!"
   ]
  },
  {
   "cell_type": "code",
   "execution_count": 15,
   "id": "a8fd4bb5-fcb9-4d7d-b709-fb46508dab8d",
   "metadata": {},
   "outputs": [],
   "source": [
    "mat = [\n",
    "    [1, 2, 3],\n",
    "    [4, 5, 6],\n",
    "    [7, 8, 9]\n",
    "]"
   ]
  },
  {
   "cell_type": "markdown",
   "id": "9c61f803-f02a-4876-966d-3c3b57f7d24c",
   "metadata": {
    "user_expressions": [
     {
      "expression": " len(mat) ",
      "result": {
       "data": {
        "text/plain": "3"
       },
       "metadata": {},
       "status": "ok"
      }
     },
     {
      "expression": " len(mat[0]) ",
      "result": {
       "data": {
        "text/plain": "3"
       },
       "metadata": {},
       "status": "ok"
      }
     },
     {
      "expression": " sum(mat[0]) ",
      "result": {
       "data": {
        "text/plain": "6"
       },
       "metadata": {},
       "status": "ok"
      }
     }
    ]
   },
   "source": [
    "In the above example, the table has {{ len(mat) }} rows.\n",
    "The first row has {{ len(mat[0]) }} values, which sum to {{ sum(mat[0]) }} "
   ]
  },
  {
   "cell_type": "markdown",
   "id": "7065b23d-9061-4723-8c29-3fdf4cc9c518",
   "metadata": {
    "user_expressions": []
   },
   "source": [
    "Expressions are also supported:"
   ]
  },
  {
   "cell_type": "code",
   "execution_count": 16,
   "id": "e5487d59-1e11-40cb-962c-cc66e01cb083",
   "metadata": {},
   "outputs": [],
   "source": [
    "def get_slider():\n",
    "    return slider"
   ]
  },
  {
   "cell_type": "markdown",
   "id": "bd7bea3e-fa3c-480b-b50f-cb88662342f0",
   "metadata": {
    "user_expressions": [
     {
      "expression": " get_slider() ",
      "result": {
       "data": {
        "application/vnd.jupyter.widget-view+json": {
         "model_id": "898eff5a1bf6459488fcb000b82514c4",
         "version_major": 2,
         "version_minor": 0
        },
        "text/plain": "IntSlider(value=65, layout=Layout(display='inline-flex'), _dom_classes=('vertical-align-middle',))"
       },
       "metadata": {},
       "status": "ok"
      }
     }
    ]
   },
   "source": [
    "Give me a slider! {{ get_slider() }} "
   ]
  },
  {
   "cell_type": "code",
   "execution_count": 17,
   "id": "8a95bc46-95f4-4768-ae7b-328fe65eb634",
   "metadata": {},
   "outputs": [],
   "source": [
    "fig = plt.figure()\n",
    "x, y = np.random.random(size=(2, 512))\n",
    "plt.scatter(x, y);"
   ]
  },
  {
   "cell_type": "markdown",
   "id": "13e924b8-22a4-403b-9965-571a4a9fdecd",
   "metadata": {
    "tags": [],
    "user_expressions": [
     {
      "expression": " fig.canvas ",
      "result": {
       "data": {
        "application/vnd.jupyter.widget-view+json": {
         "model_id": "2cba8d30955544a58d7d8f4ad23ed227",
         "version_major": 2,
         "version_minor": 0
        },
        "image/png": "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",
        "text/html": "\n            <div style=\"display: inline-block;\">\n                <div class=\"jupyter-widgets widget-label\" style=\"text-align: center;\">\n                    Figure 3\n                </div>\n                <img src='data:image/png;base64,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' width=640.0/>\n            </div>\n        ",
        "text/plain": "Canvas(toolbar=Toolbar(toolitems=[('Home', 'Reset original view', 'home', 'home'), ('Back', 'Back to previous …"
       },
       "metadata": {},
       "status": "ok"
      }
     }
    ]
   },
   "source": [
    "This is a plot!!\n",
    "\n",
    "{{ fig.canvas }}"
   ]
  }
 ],
 "metadata": {
  "kernelspec": {
   "display_name": "Python 3 (ipykernel)",
   "language": "python",
   "name": "python3"
  },
  "language_info": {
   "codemirror_mode": {
    "name": "ipython",
    "version": 3
   },
   "file_extension": ".py",
   "mimetype": "text/x-python",
   "name": "python",
   "nbconvert_exporter": "python",
   "pygments_lexer": "ipython3",
   "version": "3.10.4"
  },
  "widgets": {
   "application/vnd.jupyter.widget-state+json": {
    "state": {
     "03b8f46ff74a459d81fdc7ba4a513b98": {
      "model_module": "@jupyter-widgets/controls",
      "model_module_version": "1.5.0",
      "model_name": "SliderStyleModel",
      "state": {
       "description_width": ""
      }
     },
     "0479b1c693274ae397982d9b10132298": {
      "model_module": "@jupyter-widgets/base",
      "model_module_version": "1.2.0",
      "model_name": "LayoutModel",
      "state": {}
     },
     "06d4a76870324cf0bcb9829d5eb7f6d8": {
      "model_module": "@jupyter-widgets/controls",
      "model_module_version": "1.5.0",
      "model_name": "IntSliderModel",
      "state": {
       "layout": "IPY_MODEL_c79c73ea25864367b499f768ce4f6a2e",
       "style": "IPY_MODEL_d05b9d4830d645d9a3b3d7741b5ad7ac"
      }
     },
     "1421577df56e4337a1eb0ffe33908d68": {
      "model_module": "@jupyter-widgets/base",
      "model_module_version": "1.2.0",
      "model_name": "LayoutModel",
      "state": {
       "display": "inline-block"
      }
     },
     "15f7b0f64cf64fb68c8c01028148bae7": {
      "model_module": "@jupyter-widgets/controls",
      "model_module_version": "1.5.0",
      "model_name": "IntSliderModel",
      "state": {
       "layout": "IPY_MODEL_824b3eac5d2f46d0a7eb0cf1e66ea027",
       "style": "IPY_MODEL_b58a9a4720c74803ad038dbffc276f13"
      }
     },
     "194372d5c6c94e1a91ef2e52584bb35c": {
      "model_module": "@jupyter-widgets/controls",
      "model_module_version": "1.5.0",
      "model_name": "SliderStyleModel",
      "state": {
       "description_width": ""
      }
     },
     "198e1190ae1643e2a92f2c76b8f67420": {
      "model_module": "@jupyter-widgets/controls",
      "model_module_version": "1.5.0",
      "model_name": "LabelModel",
      "state": {
       "layout": "IPY_MODEL_0479b1c693274ae397982d9b10132298",
       "style": "IPY_MODEL_780d30f42779449fb8a0829d1a2b164a",
       "value": "HI"
      }
     },
     "37df2907db5f4923a8c1da5d9e2abe5b": {
      "model_module": "@jupyter-widgets/base",
      "model_module_version": "1.2.0",
      "model_name": "LayoutModel",
      "state": {
       "display": "inline-block"
      }
     },
     "480ca51616fd43608a0910ad395533fb": {
      "model_module": "@jupyter-widgets/controls",
      "model_module_version": "1.5.0",
      "model_name": "IntSliderModel",
      "state": {
       "layout": "IPY_MODEL_f135dd91821b40ff8144e70cd53dee1a",
       "style": "IPY_MODEL_c0dfd8130db840bbb58e3d85101f711f"
      }
     },
     "49ea00ba128a43f280622c0f69d52a3f": {
      "model_module": "@jupyter-widgets/controls",
      "model_module_version": "1.5.0",
      "model_name": "IntSliderModel",
      "state": {
       "_dom_classes": [
        "vertical-align-middle"
       ],
       "layout": "IPY_MODEL_d576d61e91814c16a642c41a9987cfb4",
       "style": "IPY_MODEL_194372d5c6c94e1a91ef2e52584bb35c"
      }
     },
     "4a1905f9557449a59c57b0feeb0760be": {
      "model_module": "@jupyter-widgets/controls",
      "model_module_version": "1.5.0",
      "model_name": "IntSliderModel",
      "state": {
       "layout": "IPY_MODEL_eee9c798fd7e466b85f96a6600d1a41c",
       "style": "IPY_MODEL_c935009ed0ec47deb3b3bda3fb9b85db"
      }
     },
     "6aca764eef134694848d878061288756": {
      "model_module": "@jupyter-widgets/controls",
      "model_module_version": "1.5.0",
      "model_name": "IntSliderModel",
      "state": {
       "layout": "IPY_MODEL_75a7fbfd913d465293edb108f2a3777f",
       "style": "IPY_MODEL_e319119c10da40349722e3b8f0738449"
      }
     },
     "6f62c9ab44594afcb8c653b4118f1cc8": {
      "model_module": "@jupyter-widgets/controls",
      "model_module_version": "1.5.0",
      "model_name": "SliderStyleModel",
      "state": {
       "description_width": ""
      }
     },
     "75a7fbfd913d465293edb108f2a3777f": {
      "model_module": "@jupyter-widgets/base",
      "model_module_version": "1.2.0",
      "model_name": "LayoutModel",
      "state": {
       "display": "inline-block"
      }
     },
     "780d30f42779449fb8a0829d1a2b164a": {
      "model_module": "@jupyter-widgets/controls",
      "model_module_version": "1.5.0",
      "model_name": "DescriptionStyleModel",
      "state": {
       "description_width": ""
      }
     },
     "80698a74768d47fd90918fae9aefb43d": {
      "model_module": "@jupyter-widgets/base",
      "model_module_version": "1.2.0",
      "model_name": "LayoutModel",
      "state": {}
     },
     "824b3eac5d2f46d0a7eb0cf1e66ea027": {
      "model_module": "@jupyter-widgets/base",
      "model_module_version": "1.2.0",
      "model_name": "LayoutModel",
      "state": {
       "display": "inline-flex"
      }
     },
     "87019bcc91784f77a7393d55e066511f": {
      "model_module": "@jupyter-widgets/controls",
      "model_module_version": "1.5.0",
      "model_name": "SliderStyleModel",
      "state": {
       "description_width": ""
      }
     },
     "b58a9a4720c74803ad038dbffc276f13": {
      "model_module": "@jupyter-widgets/controls",
      "model_module_version": "1.5.0",
      "model_name": "SliderStyleModel",
      "state": {
       "description_width": ""
      }
     },
     "c0367d875231435dafd49296cb24ef5c": {
      "model_module": "@jupyter-widgets/controls",
      "model_module_version": "1.5.0",
      "model_name": "HBoxModel",
      "state": {
       "children": [
        "IPY_MODEL_ecd725eb87064a85b6d93a6e7848d7f7",
        "IPY_MODEL_198e1190ae1643e2a92f2c76b8f67420"
       ],
       "layout": "IPY_MODEL_80698a74768d47fd90918fae9aefb43d"
      }
     },
     "c0dfd8130db840bbb58e3d85101f711f": {
      "model_module": "@jupyter-widgets/controls",
      "model_module_version": "1.5.0",
      "model_name": "SliderStyleModel",
      "state": {
       "description_width": ""
      }
     },
     "c731166dfb454afe810aae7209f802e1": {
      "model_module": "@jupyter-widgets/base",
      "model_module_version": "1.2.0",
      "model_name": "LayoutModel",
      "state": {
       "display": "inline-flex"
      }
     },
     "c79c73ea25864367b499f768ce4f6a2e": {
      "model_module": "@jupyter-widgets/base",
      "model_module_version": "1.2.0",
      "model_name": "LayoutModel",
      "state": {
       "display": "inline-flex"
      }
     },
     "c935009ed0ec47deb3b3bda3fb9b85db": {
      "model_module": "@jupyter-widgets/controls",
      "model_module_version": "1.5.0",
      "model_name": "SliderStyleModel",
      "state": {
       "description_width": ""
      }
     },
     "d05b9d4830d645d9a3b3d7741b5ad7ac": {
      "model_module": "@jupyter-widgets/controls",
      "model_module_version": "1.5.0",
      "model_name": "SliderStyleModel",
      "state": {
       "description_width": ""
      }
     },
     "d25813664f364c9d9cdc1ac7c2881d35": {
      "model_module": "@jupyter-widgets/controls",
      "model_module_version": "1.5.0",
      "model_name": "IntSliderModel",
      "state": {
       "layout": "IPY_MODEL_37df2907db5f4923a8c1da5d9e2abe5b",
       "style": "IPY_MODEL_03b8f46ff74a459d81fdc7ba4a513b98"
      }
     },
     "d576d61e91814c16a642c41a9987cfb4": {
      "model_module": "@jupyter-widgets/base",
      "model_module_version": "1.2.0",
      "model_name": "LayoutModel",
      "state": {
       "display": "inline-flex"
      }
     },
     "d906280a26cc4dae90ac87511b51d2d0": {
      "model_module": "@jupyter-widgets/controls",
      "model_module_version": "1.5.0",
      "model_name": "IntSliderModel",
      "state": {
       "layout": "IPY_MODEL_1421577df56e4337a1eb0ffe33908d68",
       "style": "IPY_MODEL_87019bcc91784f77a7393d55e066511f"
      }
     },
     "e319119c10da40349722e3b8f0738449": {
      "model_module": "@jupyter-widgets/controls",
      "model_module_version": "1.5.0",
      "model_name": "SliderStyleModel",
      "state": {
       "description_width": ""
      }
     },
     "ecd725eb87064a85b6d93a6e7848d7f7": {
      "model_module": "@jupyter-widgets/controls",
      "model_module_version": "1.5.0",
      "model_name": "IntSliderModel",
      "state": {
       "_dom_classes": [
        "vertical-align-middle"
       ],
       "layout": "IPY_MODEL_c731166dfb454afe810aae7209f802e1",
       "style": "IPY_MODEL_6f62c9ab44594afcb8c653b4118f1cc8"
      }
     },
     "eee9c798fd7e466b85f96a6600d1a41c": {
      "model_module": "@jupyter-widgets/base",
      "model_module_version": "1.2.0",
      "model_name": "LayoutModel",
      "state": {
       "display": "inline-flex"
      }
     },
     "f135dd91821b40ff8144e70cd53dee1a": {
      "model_module": "@jupyter-widgets/base",
      "model_module_version": "1.2.0",
      "model_name": "LayoutModel",
      "state": {
       "display": "inline"
      }
     }
    },
    "version_major": 2,
    "version_minor": 0
   }
  }
 },
 "nbformat": 4,
 "nbformat_minor": 5
}
