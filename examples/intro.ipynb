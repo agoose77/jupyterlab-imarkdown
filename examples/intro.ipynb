{
 "cells": [
  {
   "cell_type": "markdown",
   "id": "f8b56a07-dd42-4b22-8858-186bdf7687c7",
   "metadata": {},
   "source": [
    "# Test IMarkdown"
   ]
  },
  {
   "cell_type": "markdown",
   "id": "631a41b9-42d4-4c9e-9703-e602fadcfce2",
   "metadata": {},
   "source": [
    "```mermaid\n",
    "flowchart LR;\n",
    "\n",
    "P[Execute Markdown] --> \n",
    "Q[Store MIME-bundles in Attachments]\n",
    "\n",
    "A[Render Markdown] --> \n",
    "B[Create Placeholders] --> \n",
    "C[Replace Placeholders from Attachments]\n",
    "```"
   ]
  },
  {
   "cell_type": "markdown",
   "id": "6214732b-d02c-4438-a630-a4f33c63673f",
   "metadata": {},
   "source": [
    "Patch IPyWidgets"
   ]
  },
  {
   "cell_type": "code",
   "execution_count": 3,
   "id": "cb582949-551f-4b02-b109-3c3d21f84512",
   "metadata": {
    "tags": []
   },
   "outputs": [],
   "source": [
    "import ipywidgets as w\n",
    "import numpy as np\n",
    "from IPython.display import HTML"
   ]
  },
  {
   "cell_type": "code",
   "execution_count": 4,
   "id": "aa5ec4f9-e9a8-4351-a483-b25786f0d81c",
   "metadata": {
    "tags": []
   },
   "outputs": [],
   "source": [
    "def repr_widget_mimebundle(self, include, exclude):\n",
    "    plaintext = repr(self)\n",
    "    if len(plaintext) > 110:\n",
    "        plaintext = plaintext[:110] + '…'\n",
    "    data = {\n",
    "        'text/plain': plaintext,\n",
    "    }\n",
    "    if self._view_name is not None:\n",
    "        # The 'application/vnd.jupyter.widget-view+json' mimetype has not been registered yet.\n",
    "        # See the registration process and naming convention at\n",
    "        # http://tools.ietf.org/html/rfc6838\n",
    "        # and the currently registered mimetypes at\n",
    "        # http://www.iana.org/assignments/media-types/media-types.xhtml.\n",
    "        data['application/vnd.jupyter.widget-view+json'] = {\n",
    "            'version_major': 2,\n",
    "            'version_minor': 0,\n",
    "            'model_id': self._model_id\n",
    "        }\n",
    "    return data\n",
    "\n",
    "try:\n",
    "    del w.Widget._ipython_display_\n",
    "except AttributeError:\n",
    "    pass\n",
    "w.Widget._repr_mimebundle_ = repr_widget_mimebundle"
   ]
  },
  {
   "cell_type": "markdown",
   "id": "81424d85-6484-4bd8-9c92-bf7028fb4d76",
   "metadata": {},
   "source": [
    "The best thing about Markdown is the ability to include inspirational messages from space:"
   ]
  },
  {
   "cell_type": "code",
   "execution_count": 13,
   "id": "78e7b0a4-0404-438d-80ac-2969036736ad",
   "metadata": {},
   "outputs": [
    {
     "data": {
      "text/html": [
       "<a style=\"color:green\">hello from Mars</a>"
      ],
      "text/plain": [
       "<IPython.core.display.HTML object>"
      ]
     },
     "execution_count": 13,
     "metadata": {},
     "output_type": "execute_result"
    }
   ],
   "source": [
    "message = HTML(\"\"\"<a style=\"color:green\">hello from Mars</a>\"\"\")\n",
    "message"
   ]
  },
  {
   "cell_type": "markdown",
   "id": "da45ba9c-d836-4830-9cd0-52b66f282077",
   "metadata": {},
   "source": [
    "Receiving broadcast ...\n",
    "> {{ message }}"
   ]
  },
  {
   "cell_type": "code",
   "execution_count": 10,
   "id": "29958409-a294-4aa4-a6e6-13146527afe7",
   "metadata": {},
   "outputs": [
    {
     "data": {
      "application/vnd.jupyter.widget-view+json": {
       "model_id": "0b2f0965e48e42339530971cbba78a80",
       "version_major": 2,
       "version_minor": 0
      },
      "text/plain": [
       "IntSlider(value=0, layout=Layout(display='inline-flex'))"
      ]
     },
     "execution_count": 10,
     "metadata": {},
     "output_type": "execute_result"
    }
   ],
   "source": [
    "slider = w.IntSlider(layout=w.Layout(display=\"inline-flex\"))\n",
    "slider"
   ]
  },
  {
   "cell_type": "markdown",
   "id": "d040cf4e-d764-48f0-b747-f0dd36cd7c87",
   "metadata": {},
   "source": [
    "We can also include widgets!\n",
    "This is a slider — {{ slider }}"
   ]
  },
  {
   "cell_type": "markdown",
   "id": "6045ce4d-b467-4ce0-b713-6fba4f9a72ea",
   "metadata": {},
   "source": [
    "And we can include raw text (as blocks, currently)!"
   ]
  },
  {
   "cell_type": "code",
   "execution_count": 14,
   "id": "a8fd4bb5-fcb9-4d7d-b709-fb46508dab8d",
   "metadata": {},
   "outputs": [],
   "source": [
    "mat = [\n",
    "    [1, 2, 3],\n",
    "    [4, 5, 6],\n",
    "    [7, 8, 9]\n",
    "]"
   ]
  },
  {
   "cell_type": "markdown",
   "id": "9c61f803-f02a-4876-966d-3c3b57f7d24c",
   "metadata": {},
   "source": [
    "In the above example, the table has {{ len(mat) }} rows.\n",
    "The first row has {{ len(mat[0]) }} values, which sum to {{ sum(mat[0]) }}"
   ]
  },
  {
   "cell_type": "markdown",
   "id": "7065b23d-9061-4723-8c29-3fdf4cc9c518",
   "metadata": {},
   "source": [
    "Expressions are also supported:"
   ]
  },
  {
   "cell_type": "code",
   "execution_count": 15,
   "id": "e5487d59-1e11-40cb-962c-cc66e01cb083",
   "metadata": {},
   "outputs": [],
   "source": [
    "def get_slider():\n",
    "    return slider"
   ]
  },
  {
   "cell_type": "markdown",
   "id": "bd7bea3e-fa3c-480b-b50f-cb88662342f0",
   "metadata": {},
   "source": [
    "Give me a slider! {{ get_slider() }}"
   ]
  }
 ],
 "metadata": {
  "kernelspec": {
   "display_name": "Python 3 (ipykernel)",
   "language": "python",
   "name": "python3"
  },
  "language_info": {
   "codemirror_mode": {
    "name": "ipython",
    "version": 3
   },
   "file_extension": ".py",
   "mimetype": "text/x-python",
   "name": "python",
   "nbconvert_exporter": "python",
   "pygments_lexer": "ipython3",
   "version": "3.10.4"
  },
  "widgets": {
   "application/vnd.jupyter.widget-state+json": {
    "state": {
     "0b2f0965e48e42339530971cbba78a80": {
      "model_module": "@jupyter-widgets/controls",
      "model_module_version": "1.5.0",
      "model_name": "IntSliderModel",
      "state": {
       "layout": "IPY_MODEL_d3a571a9a0434ae6b615d1845c212f2d",
       "style": "IPY_MODEL_5f89e8c4009742eb8f156c6a56051141",
       "value": 78
      }
     },
     "4b5b6a4a84d04cbda92d90fefb64d3fd": {
      "model_module": "@jupyter-widgets/base",
      "model_module_version": "1.2.0",
      "model_name": "LayoutModel",
      "state": {
       "display": "inline-flex"
      }
     },
     "4ddc3bfcded14980954feebf62060ffa": {
      "model_module": "@jupyter-widgets/controls",
      "model_module_version": "1.5.0",
      "model_name": "SliderStyleModel",
      "state": {
       "description_width": ""
      }
     },
     "5f89e8c4009742eb8f156c6a56051141": {
      "model_module": "@jupyter-widgets/controls",
      "model_module_version": "1.5.0",
      "model_name": "SliderStyleModel",
      "state": {
       "description_width": ""
      }
     },
     "d3a571a9a0434ae6b615d1845c212f2d": {
      "model_module": "@jupyter-widgets/base",
      "model_module_version": "1.2.0",
      "model_name": "LayoutModel",
      "state": {
       "display": "inline-flex"
      }
     },
     "f59adedb47694c43ba963f3691e39cae": {
      "model_module": "@jupyter-widgets/controls",
      "model_module_version": "1.5.0",
      "model_name": "IntSliderModel",
      "state": {
       "layout": "IPY_MODEL_4b5b6a4a84d04cbda92d90fefb64d3fd",
       "style": "IPY_MODEL_4ddc3bfcded14980954feebf62060ffa"
      }
     }
    },
    "version_major": 2,
    "version_minor": 0
   }
  }
 },
 "nbformat": 4,
 "nbformat_minor": 5
}
